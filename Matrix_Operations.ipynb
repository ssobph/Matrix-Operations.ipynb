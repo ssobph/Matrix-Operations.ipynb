{
  "nbformat": 4,
  "nbformat_minor": 0,
  "metadata": {
    "colab": {
      "provenance": []
    },
    "kernelspec": {
      "name": "python3",
      "display_name": "Python 3"
    },
    "language_info": {
      "name": "python"
    }
  },
  "cells": [
    {
      "cell_type": "markdown",
      "source": [
        "Q1: What are some examples of unary operations in matrices?\n",
        "Answer: Examples of unary operations include:\n",
        "\n",
        "Transpose: Flipping a matrix over its diagonal.\n",
        "Trace: The sum of the diagonal elements of the matrix.\n",
        "Determinant: A scalar value that represents certain properties of the matrix."
      ],
      "metadata": {
        "id": "rvtMmlAVLxnR"
      }
    },
    {
      "cell_type": "markdown",
      "source": [
        "Q2: Check if matrix_A is a symmetric matrix.\n",
        "Matrix:"
      ],
      "metadata": {
        "id": "1wGCQ1kwL_ox"
      }
    },
    {
      "cell_type": "code",
      "execution_count": 4,
      "metadata": {
        "colab": {
          "base_uri": "https://localhost:8080/"
        },
        "id": "-dbiX4l1IsgZ",
        "outputId": "96375142-ca3b-4ca5-efb4-4191cff5ec58"
      },
      "outputs": [
        {
          "output_type": "stream",
          "name": "stdout",
          "text": [
            "Matrix A:\n",
            " [[1 2 3]\n",
            " [4 5 6]\n",
            " [7 8 9]]\n",
            "\n",
            "Is Matrix A symmetric? False\n"
          ]
        }
      ],
      "source": [
        "import numpy as np\n",
        "\n",
        "# Define the matrix\n",
        "matrix_A = np.array([[1, 2, 3], [4, 5, 6], [7, 8, 9]])\n",
        "\n",
        "# Check if symmetric\n",
        "is_symmetric = (matrix_A == matrix_A.T).all()\n",
        "print(\"Matrix A:\\n\", matrix_A)\n",
        "print(\"\\nIs Matrix A symmetric?\", is_symmetric)\n",
        "\n"
      ]
    },
    {
      "cell_type": "markdown",
      "source": [
        "Practice Problem 1: Create a 4×4 random matrix and check if it is symmetric."
      ],
      "metadata": {
        "id": "jT52EWMDMW6b"
      }
    },
    {
      "cell_type": "code",
      "source": [
        "# Create a 4x4 random matrix\n",
        "random_matrix = np.random.randint(1, 10, (4, 4))\n",
        "\n",
        "# Transpose and check symmetry\n",
        "transpose_random = random_matrix.T\n",
        "is_symmetric_random = (random_matrix == transpose_random).all()\n",
        "\n",
        "print(\"Random Matrix:\\n\", random_matrix)\n",
        "print(\"\\nIs the random matrix symmetric?\", is_symmetric_random)\n"
      ],
      "metadata": {
        "colab": {
          "base_uri": "https://localhost:8080/"
        },
        "id": "J2BwpJcmMYay",
        "outputId": "0f050e6b-e5a4-4056-9a91-3d66af712b58"
      },
      "execution_count": 5,
      "outputs": [
        {
          "output_type": "stream",
          "name": "stdout",
          "text": [
            "Random Matrix:\n",
            " [[1 6 8 7]\n",
            " [9 6 3 1]\n",
            " [3 8 3 5]\n",
            " [3 7 7 4]]\n",
            "\n",
            "Is the random matrix symmetric? False\n"
          ]
        }
      ]
    },
    {
      "cell_type": "markdown",
      "source": [
        "Q3: What is the trace of the following matrix?"
      ],
      "metadata": {
        "id": "vx9TuOSHMaIy"
      }
    },
    {
      "cell_type": "code",
      "source": [
        "# Define the matrix\n",
        "matrix_A = np.array([[1, 2, 3], [4, 5, 6], [7, 8, 9]])\n",
        "\n",
        "# Calculate the trace\n",
        "trace_A = np.trace(matrix_A)\n",
        "print(\"Matrix A:\\n\", matrix_A)\n",
        "print(\"\\nTrace of Matrix A:\", trace_A)\n"
      ],
      "metadata": {
        "colab": {
          "base_uri": "https://localhost:8080/"
        },
        "id": "Uhd4TbA8McWy",
        "outputId": "662cfdfe-5258-4c53-9755-4eb59b22d0bc"
      },
      "execution_count": 6,
      "outputs": [
        {
          "output_type": "stream",
          "name": "stdout",
          "text": [
            "Matrix A:\n",
            " [[1 2 3]\n",
            " [4 5 6]\n",
            " [7 8 9]]\n",
            "\n",
            "Trace of Matrix A: 15\n"
          ]
        }
      ]
    },
    {
      "cell_type": "markdown",
      "source": [
        "Practice Problem 2: Find the trace of a 5×5 identity matrix."
      ],
      "metadata": {
        "id": "6tqZr53cMeJ1"
      }
    },
    {
      "cell_type": "code",
      "source": [
        "# Create a 5x5 identity matrix\n",
        "identity_matrix = np.eye(5)\n",
        "\n",
        "# Calculate the trace\n",
        "trace_identity = np.trace(identity_matrix)\n",
        "print(\"Identity Matrix:\\n\", identity_matrix)\n",
        "print(\"\\nTrace of 5x5 Identity Matrix:\", trace_identity)\n"
      ],
      "metadata": {
        "colab": {
          "base_uri": "https://localhost:8080/"
        },
        "id": "agbmbFkjMf2d",
        "outputId": "b2bdd34f-55ad-485f-90a6-baca47bd56e8"
      },
      "execution_count": 7,
      "outputs": [
        {
          "output_type": "stream",
          "name": "stdout",
          "text": [
            "Identity Matrix:\n",
            " [[1. 0. 0. 0. 0.]\n",
            " [0. 1. 0. 0. 0.]\n",
            " [0. 0. 1. 0. 0.]\n",
            " [0. 0. 0. 1. 0.]\n",
            " [0. 0. 0. 0. 1.]]\n",
            "\n",
            "Trace of 5x5 Identity Matrix: 5.0\n"
          ]
        }
      ]
    },
    {
      "cell_type": "markdown",
      "source": [
        "Practice Problem 3: Compute the determinant of the following 3×3 matrix using NumPy."
      ],
      "metadata": {
        "id": "Tb2h0eb1Mj8X"
      }
    },
    {
      "cell_type": "code",
      "source": [
        "# Define the matrix\n",
        "matrix_D = np.array([[2, 3, 1], [4, 5, 6], [7, 8, 9]])\n",
        "\n",
        "# Calculate the determinant\n",
        "det_D = np.linalg.det(matrix_D)\n",
        "print(\"Matrix D:\\n\", matrix_D)\n",
        "print(\"\\nDeterminant of Matrix D:\", det_D)\n"
      ],
      "metadata": {
        "colab": {
          "base_uri": "https://localhost:8080/"
        },
        "id": "tAxLXrATMmHR",
        "outputId": "3ce639d0-424e-4f39-b3e5-b744ff79aa71"
      },
      "execution_count": 8,
      "outputs": [
        {
          "output_type": "stream",
          "name": "stdout",
          "text": [
            "Matrix D:\n",
            " [[2 3 1]\n",
            " [4 5 6]\n",
            " [7 8 9]]\n",
            "\n",
            "Determinant of Matrix D: 9.000000000000005\n"
          ]
        }
      ]
    },
    {
      "cell_type": "markdown",
      "source": [
        "Practice Problem 4: Generate a random 3×3 matrix representing pixel intensities, and find its transpose and determinant."
      ],
      "metadata": {
        "id": "oeU0viLyMo68"
      }
    },
    {
      "cell_type": "code",
      "source": [
        "# Generate a random 3x3 matrix\n",
        "random_pixel_matrix = np.random.randint(0, 256, (3, 3))\n",
        "\n",
        "# Find the transpose and determinant\n",
        "pixel_transpose = random_pixel_matrix.T\n",
        "pixel_determinant = np.linalg.det(random_pixel_matrix)\n",
        "\n",
        "print(\"Random Pixel Intensity Matrix:\\n\", random_pixel_matrix)\n",
        "print(\"\\nTranspose of Pixel Matrix:\\n\", pixel_transpose)\n",
        "print(\"\\nDeterminant of Pixel Matrix:\\n\", pixel_determinant)\n"
      ],
      "metadata": {
        "colab": {
          "base_uri": "https://localhost:8080/"
        },
        "id": "kj-4WgmgMpbF",
        "outputId": "230edc02-9146-4c4f-d6f8-d8856a3bb00d"
      },
      "execution_count": 9,
      "outputs": [
        {
          "output_type": "stream",
          "name": "stdout",
          "text": [
            "Random Pixel Intensity Matrix:\n",
            " [[133 122 143]\n",
            " [228 205  35]\n",
            " [127  32 133]]\n",
            "\n",
            "Transpose of Pixel Matrix:\n",
            " [[133 228 127]\n",
            " [122 205  32]\n",
            " [143  35 133]]\n",
            "\n",
            "Determinant of Pixel Matrix:\n",
            " -2359630.000000002\n"
          ]
        }
      ]
    },
    {
      "cell_type": "markdown",
      "source": [
        "Practice Problem 5: Create a symmetric 3×3 matrix and verify its properties."
      ],
      "metadata": {
        "id": "X9r4hBSTMqen"
      }
    },
    {
      "cell_type": "code",
      "source": [
        "# Define a symmetric matrix\n",
        "symmetric_matrix = np.array([[2, 1, 1], [1, 2, 1], [1, 1, 2]])\n",
        "\n",
        "# Check if symmetric\n",
        "transpose_symmetric = symmetric_matrix.T\n",
        "is_symmetric_verified = (symmetric_matrix == transpose_symmetric).all()\n",
        "\n",
        "print(\"Symmetric Matrix:\\n\", symmetric_matrix)\n",
        "print(\"\\nIs the matrix symmetric?\", is_symmetric_verified)\n"
      ],
      "metadata": {
        "colab": {
          "base_uri": "https://localhost:8080/"
        },
        "id": "dPME1cgbMsKX",
        "outputId": "2251a696-11d2-4f20-f434-c3f2fb8858e6"
      },
      "execution_count": 10,
      "outputs": [
        {
          "output_type": "stream",
          "name": "stdout",
          "text": [
            "Symmetric Matrix:\n",
            " [[2 1 1]\n",
            " [1 2 1]\n",
            " [1 1 2]]\n",
            "\n",
            "Is the matrix symmetric? True\n"
          ]
        }
      ]
    }
  ]
}